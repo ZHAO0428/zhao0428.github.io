{
  "cells": [
    {
      "cell_type": "markdown",
      "metadata": {
        "id": "view-in-github",
        "colab_type": "text"
      },
      "source": [
        "<a href=\"https://colab.research.google.com/github/ZHAO0428/zhao0428.github.io/blob/main/%E6%9C%9F%E6%9C%AB%E7%AD%94%E9%A2%98.ipynb\" target=\"_parent\"><img src=\"https://colab.research.google.com/assets/colab-badge.svg\" alt=\"Open In Colab\"/></a>"
      ]
    },
    {
      "cell_type": "markdown",
      "metadata": {
        "id": "Kj2Z84yQ_0Wa"
      },
      "source": [
        "# AIDM7330 Basic Programming for Data Science\n",
        "## AY 2024/2025 Semester 1"
      ]
    },
    {
      "cell_type": "markdown",
      "metadata": {
        "id": "94gNjlrZ_0Wb"
      },
      "source": [
        "# Exam Notebook\n",
        "# 24h (+) Data Analysis and Visualization Challenge"
      ]
    },
    {
      "cell_type": "markdown",
      "metadata": {
        "id": "scQnngry_0Wb"
      },
      "source": [
        "# <div style=\"color: orange\">Submission deadline 15 December 2024 @23:59</div>\n",
        "# Deliverables\n",
        "1. This Jupyter notebook (in .ipynb format), with all cells already executed"
      ]
    },
    {
      "cell_type": "markdown",
      "metadata": {
        "id": "JqlossLg_0Wc"
      },
      "source": [
        "# <div style=\"color: red\">Please Complete This Section</div>\n",
        "## Student Information\n",
        "Student Name (English): ZHAO Yue\n",
        "\n",
        "Student ID: 24433462\n",
        "\n",
        "## Declaration of Integrity\n",
        "\n",
        "**I confirm that the work for the following exam notebook was solely undertaken by myself and that no help was provided from other sources as those allowed.**\n",
        "\n",
        "Please type your name and today’s date on the following fields if you agree with the statement. **<ins>Failing to do so your submission will not be considered valid.</ins>**\n",
        "\n",
        "Name: ZHAO Yue\n",
        "\n",
        "Date: 14/12/2024"
      ]
    },
    {
      "cell_type": "markdown",
      "metadata": {
        "id": "Qg7Ovpcb_0Wc"
      },
      "source": [
        "# <div style=\"color: LimeGreen\">Part 1: Project Setup [10%]</div>"
      ]
    },
    {
      "cell_type": "markdown",
      "metadata": {
        "id": "fiRjHMro_0Wc"
      },
      "source": [
        "# 1.1 Load the Libraries (1')\n",
        "Import all the required libraries in this section (e.g. pandas, numpy, etc.)"
      ]
    },
    {
      "cell_type": "code",
      "execution_count": 1,
      "metadata": {
        "id": "BznJbvDO_0Wc"
      },
      "outputs": [],
      "source": [
        "#important command to display IMMEDIATELY your plots\n",
        "%matplotlib inline"
      ]
    },
    {
      "cell_type": "code",
      "execution_count": 2,
      "metadata": {
        "id": "vZiVH8wB_0Wd"
      },
      "outputs": [],
      "source": [
        "import pandas as pd\n",
        "import numpy as np\n",
        "import seaborn as sns\n",
        "import matplotlib.pyplot as plt"
      ]
    },
    {
      "cell_type": "markdown",
      "metadata": {
        "id": "LqBYdq7C_0Wd"
      },
      "source": [
        "# 1.2 Import the datasets in Pandas (1')\n",
        "Import the datasets for:\n",
        "- Netflix\n",
        "- PrimeVideo\n",
        "- Hulu\n",
        "- Disney Plus\n",
        "\n",
        "Use multiple dataframes."
      ]
    },
    {
      "cell_type": "code",
      "source": [
        "URL1 = 'https://raw.githubusercontent.com/ZHAO0428/zhao0428.github.io/main/MoviesOnNetflix.csv'\n",
        "Netflix = pd.read_csv(URL1)\n",
        "\n",
        "URL2 = 'https://raw.githubusercontent.com/ZHAO0428/zhao0428.github.io/main/MoviesOnPrimeVideo.csv'\n",
        "PrimeVideo = pd.read_csv(URL2)\n",
        "\n",
        "URL3 = 'https://raw.githubusercontent.com/ZHAO0428/zhao0428.github.io/main/MoviesOnHulu.csv'\n",
        "Hulu = pd.read_csv(URL3)\n",
        "\n",
        "URL4 = 'https://raw.githubusercontent.com/ZHAO0428/zhao0428.github.io/main/MoviesOnDisneyPlus.csv'\n",
        "DisneyPlus = pd.read_csv(URL4)"
      ],
      "metadata": {
        "id": "Q8SjJwu8DjZr"
      },
      "execution_count": 3,
      "outputs": []
    },
    {
      "cell_type": "markdown",
      "metadata": {
        "id": "h1SyjRyS_0Wd"
      },
      "source": [
        "# 1.3 Print shape, head and tail of the dataframes (1')"
      ]
    },
    {
      "cell_type": "code",
      "execution_count": 4,
      "metadata": {
        "id": "npZFKeYn_0Wd",
        "colab": {
          "base_uri": "https://localhost:8080/"
        },
        "outputId": "0a168335-f04a-4200-b378-08281626ef26"
      },
      "outputs": [
        {
          "output_type": "execute_result",
          "data": {
            "text/plain": [
              "(16744, 13)"
            ]
          },
          "metadata": {},
          "execution_count": 4
        }
      ],
      "source": [
        "Netflix.shape"
      ]
    },
    {
      "cell_type": "code",
      "source": [
        "print(type(Netflix))\n",
        "Netflix.head()\n",
        "Netflix.tail()"
      ],
      "metadata": {
        "colab": {
          "base_uri": "https://localhost:8080/",
          "height": 223
        },
        "id": "4p-wUPtyPypK",
        "outputId": "1eb02e67-f5c1-4697-c0cc-8004eee8ab24"
      },
      "execution_count": 5,
      "outputs": [
        {
          "output_type": "stream",
          "name": "stdout",
          "text": [
            "<class 'pandas.core.frame.DataFrame'>\n"
          ]
        },
        {
          "output_type": "execute_result",
          "data": {
            "text/plain": [
              "       Unnamed: 0     ID                      Title  Year  Age  IMDb  \\\n",
              "16739       16739  16740  The Ghosts of Buxley Hall  1980  NaN   6.2   \n",
              "16740       16740  16741             The Poof Point  2001   7+   4.7   \n",
              "16741       16741  16742      Sharks of Lost Island  2013  NaN   5.7   \n",
              "16742       16742  16743         Man Among Cheetahs  2017  NaN   6.6   \n",
              "16743       16743  16744           In Beaver Valley  1950  NaN   NaN   \n",
              "\n",
              "      Rotten Tomatoes  Netflix             Directors  \\\n",
              "16739             NaN        0          Bruce Bilson   \n",
              "16740             NaN        0           Neal Israel   \n",
              "16741             NaN        0          Neil Gelinas   \n",
              "16742             NaN        0  Richard Slater-Jones   \n",
              "16743             NaN        0           James Algar   \n",
              "\n",
              "                             Genres        Country Language  Runtime  \n",
              "16739  Comedy,Family,Fantasy,Horror  United States  English    120.0  \n",
              "16740          Comedy,Family,Sci-Fi  United States  English     90.0  \n",
              "16741                   Documentary  United States  English      NaN  \n",
              "16742                   Documentary  United States  English      NaN  \n",
              "16743      Documentary,Short,Family  United States  English     32.0  "
            ],
            "text/html": [
              "\n",
              "  <div id=\"df-5af4e767-521b-442d-ac7c-e0949a4e613e\" class=\"colab-df-container\">\n",
              "    <div>\n",
              "<style scoped>\n",
              "    .dataframe tbody tr th:only-of-type {\n",
              "        vertical-align: middle;\n",
              "    }\n",
              "\n",
              "    .dataframe tbody tr th {\n",
              "        vertical-align: top;\n",
              "    }\n",
              "\n",
              "    .dataframe thead th {\n",
              "        text-align: right;\n",
              "    }\n",
              "</style>\n",
              "<table border=\"1\" class=\"dataframe\">\n",
              "  <thead>\n",
              "    <tr style=\"text-align: right;\">\n",
              "      <th></th>\n",
              "      <th>Unnamed: 0</th>\n",
              "      <th>ID</th>\n",
              "      <th>Title</th>\n",
              "      <th>Year</th>\n",
              "      <th>Age</th>\n",
              "      <th>IMDb</th>\n",
              "      <th>Rotten Tomatoes</th>\n",
              "      <th>Netflix</th>\n",
              "      <th>Directors</th>\n",
              "      <th>Genres</th>\n",
              "      <th>Country</th>\n",
              "      <th>Language</th>\n",
              "      <th>Runtime</th>\n",
              "    </tr>\n",
              "  </thead>\n",
              "  <tbody>\n",
              "    <tr>\n",
              "      <th>16739</th>\n",
              "      <td>16739</td>\n",
              "      <td>16740</td>\n",
              "      <td>The Ghosts of Buxley Hall</td>\n",
              "      <td>1980</td>\n",
              "      <td>NaN</td>\n",
              "      <td>6.2</td>\n",
              "      <td>NaN</td>\n",
              "      <td>0</td>\n",
              "      <td>Bruce Bilson</td>\n",
              "      <td>Comedy,Family,Fantasy,Horror</td>\n",
              "      <td>United States</td>\n",
              "      <td>English</td>\n",
              "      <td>120.0</td>\n",
              "    </tr>\n",
              "    <tr>\n",
              "      <th>16740</th>\n",
              "      <td>16740</td>\n",
              "      <td>16741</td>\n",
              "      <td>The Poof Point</td>\n",
              "      <td>2001</td>\n",
              "      <td>7+</td>\n",
              "      <td>4.7</td>\n",
              "      <td>NaN</td>\n",
              "      <td>0</td>\n",
              "      <td>Neal Israel</td>\n",
              "      <td>Comedy,Family,Sci-Fi</td>\n",
              "      <td>United States</td>\n",
              "      <td>English</td>\n",
              "      <td>90.0</td>\n",
              "    </tr>\n",
              "    <tr>\n",
              "      <th>16741</th>\n",
              "      <td>16741</td>\n",
              "      <td>16742</td>\n",
              "      <td>Sharks of Lost Island</td>\n",
              "      <td>2013</td>\n",
              "      <td>NaN</td>\n",
              "      <td>5.7</td>\n",
              "      <td>NaN</td>\n",
              "      <td>0</td>\n",
              "      <td>Neil Gelinas</td>\n",
              "      <td>Documentary</td>\n",
              "      <td>United States</td>\n",
              "      <td>English</td>\n",
              "      <td>NaN</td>\n",
              "    </tr>\n",
              "    <tr>\n",
              "      <th>16742</th>\n",
              "      <td>16742</td>\n",
              "      <td>16743</td>\n",
              "      <td>Man Among Cheetahs</td>\n",
              "      <td>2017</td>\n",
              "      <td>NaN</td>\n",
              "      <td>6.6</td>\n",
              "      <td>NaN</td>\n",
              "      <td>0</td>\n",
              "      <td>Richard Slater-Jones</td>\n",
              "      <td>Documentary</td>\n",
              "      <td>United States</td>\n",
              "      <td>English</td>\n",
              "      <td>NaN</td>\n",
              "    </tr>\n",
              "    <tr>\n",
              "      <th>16743</th>\n",
              "      <td>16743</td>\n",
              "      <td>16744</td>\n",
              "      <td>In Beaver Valley</td>\n",
              "      <td>1950</td>\n",
              "      <td>NaN</td>\n",
              "      <td>NaN</td>\n",
              "      <td>NaN</td>\n",
              "      <td>0</td>\n",
              "      <td>James Algar</td>\n",
              "      <td>Documentary,Short,Family</td>\n",
              "      <td>United States</td>\n",
              "      <td>English</td>\n",
              "      <td>32.0</td>\n",
              "    </tr>\n",
              "  </tbody>\n",
              "</table>\n",
              "</div>\n",
              "    <div class=\"colab-df-buttons\">\n",
              "\n",
              "  <div class=\"colab-df-container\">\n",
              "    <button class=\"colab-df-convert\" onclick=\"convertToInteractive('df-5af4e767-521b-442d-ac7c-e0949a4e613e')\"\n",
              "            title=\"Convert this dataframe to an interactive table.\"\n",
              "            style=\"display:none;\">\n",
              "\n",
              "  <svg xmlns=\"http://www.w3.org/2000/svg\" height=\"24px\" viewBox=\"0 -960 960 960\">\n",
              "    <path d=\"M120-120v-720h720v720H120Zm60-500h600v-160H180v160Zm220 220h160v-160H400v160Zm0 220h160v-160H400v160ZM180-400h160v-160H180v160Zm440 0h160v-160H620v160ZM180-180h160v-160H180v160Zm440 0h160v-160H620v160Z\"/>\n",
              "  </svg>\n",
              "    </button>\n",
              "\n",
              "  <style>\n",
              "    .colab-df-container {\n",
              "      display:flex;\n",
              "      gap: 12px;\n",
              "    }\n",
              "\n",
              "    .colab-df-convert {\n",
              "      background-color: #E8F0FE;\n",
              "      border: none;\n",
              "      border-radius: 50%;\n",
              "      cursor: pointer;\n",
              "      display: none;\n",
              "      fill: #1967D2;\n",
              "      height: 32px;\n",
              "      padding: 0 0 0 0;\n",
              "      width: 32px;\n",
              "    }\n",
              "\n",
              "    .colab-df-convert:hover {\n",
              "      background-color: #E2EBFA;\n",
              "      box-shadow: 0px 1px 2px rgba(60, 64, 67, 0.3), 0px 1px 3px 1px rgba(60, 64, 67, 0.15);\n",
              "      fill: #174EA6;\n",
              "    }\n",
              "\n",
              "    .colab-df-buttons div {\n",
              "      margin-bottom: 4px;\n",
              "    }\n",
              "\n",
              "    [theme=dark] .colab-df-convert {\n",
              "      background-color: #3B4455;\n",
              "      fill: #D2E3FC;\n",
              "    }\n",
              "\n",
              "    [theme=dark] .colab-df-convert:hover {\n",
              "      background-color: #434B5C;\n",
              "      box-shadow: 0px 1px 3px 1px rgba(0, 0, 0, 0.15);\n",
              "      filter: drop-shadow(0px 1px 2px rgba(0, 0, 0, 0.3));\n",
              "      fill: #FFFFFF;\n",
              "    }\n",
              "  </style>\n",
              "\n",
              "    <script>\n",
              "      const buttonEl =\n",
              "        document.querySelector('#df-5af4e767-521b-442d-ac7c-e0949a4e613e button.colab-df-convert');\n",
              "      buttonEl.style.display =\n",
              "        google.colab.kernel.accessAllowed ? 'block' : 'none';\n",
              "\n",
              "      async function convertToInteractive(key) {\n",
              "        const element = document.querySelector('#df-5af4e767-521b-442d-ac7c-e0949a4e613e');\n",
              "        const dataTable =\n",
              "          await google.colab.kernel.invokeFunction('convertToInteractive',\n",
              "                                                    [key], {});\n",
              "        if (!dataTable) return;\n",
              "\n",
              "        const docLinkHtml = 'Like what you see? Visit the ' +\n",
              "          '<a target=\"_blank\" href=https://colab.research.google.com/notebooks/data_table.ipynb>data table notebook</a>'\n",
              "          + ' to learn more about interactive tables.';\n",
              "        element.innerHTML = '';\n",
              "        dataTable['output_type'] = 'display_data';\n",
              "        await google.colab.output.renderOutput(dataTable, element);\n",
              "        const docLink = document.createElement('div');\n",
              "        docLink.innerHTML = docLinkHtml;\n",
              "        element.appendChild(docLink);\n",
              "      }\n",
              "    </script>\n",
              "  </div>\n",
              "\n",
              "\n",
              "<div id=\"df-a8610f4e-8fba-4bf9-81ab-a88296bd77b2\">\n",
              "  <button class=\"colab-df-quickchart\" onclick=\"quickchart('df-a8610f4e-8fba-4bf9-81ab-a88296bd77b2')\"\n",
              "            title=\"Suggest charts\"\n",
              "            style=\"display:none;\">\n",
              "\n",
              "<svg xmlns=\"http://www.w3.org/2000/svg\" height=\"24px\"viewBox=\"0 0 24 24\"\n",
              "     width=\"24px\">\n",
              "    <g>\n",
              "        <path d=\"M19 3H5c-1.1 0-2 .9-2 2v14c0 1.1.9 2 2 2h14c1.1 0 2-.9 2-2V5c0-1.1-.9-2-2-2zM9 17H7v-7h2v7zm4 0h-2V7h2v10zm4 0h-2v-4h2v4z\"/>\n",
              "    </g>\n",
              "</svg>\n",
              "  </button>\n",
              "\n",
              "<style>\n",
              "  .colab-df-quickchart {\n",
              "      --bg-color: #E8F0FE;\n",
              "      --fill-color: #1967D2;\n",
              "      --hover-bg-color: #E2EBFA;\n",
              "      --hover-fill-color: #174EA6;\n",
              "      --disabled-fill-color: #AAA;\n",
              "      --disabled-bg-color: #DDD;\n",
              "  }\n",
              "\n",
              "  [theme=dark] .colab-df-quickchart {\n",
              "      --bg-color: #3B4455;\n",
              "      --fill-color: #D2E3FC;\n",
              "      --hover-bg-color: #434B5C;\n",
              "      --hover-fill-color: #FFFFFF;\n",
              "      --disabled-bg-color: #3B4455;\n",
              "      --disabled-fill-color: #666;\n",
              "  }\n",
              "\n",
              "  .colab-df-quickchart {\n",
              "    background-color: var(--bg-color);\n",
              "    border: none;\n",
              "    border-radius: 50%;\n",
              "    cursor: pointer;\n",
              "    display: none;\n",
              "    fill: var(--fill-color);\n",
              "    height: 32px;\n",
              "    padding: 0;\n",
              "    width: 32px;\n",
              "  }\n",
              "\n",
              "  .colab-df-quickchart:hover {\n",
              "    background-color: var(--hover-bg-color);\n",
              "    box-shadow: 0 1px 2px rgba(60, 64, 67, 0.3), 0 1px 3px 1px rgba(60, 64, 67, 0.15);\n",
              "    fill: var(--button-hover-fill-color);\n",
              "  }\n",
              "\n",
              "  .colab-df-quickchart-complete:disabled,\n",
              "  .colab-df-quickchart-complete:disabled:hover {\n",
              "    background-color: var(--disabled-bg-color);\n",
              "    fill: var(--disabled-fill-color);\n",
              "    box-shadow: none;\n",
              "  }\n",
              "\n",
              "  .colab-df-spinner {\n",
              "    border: 2px solid var(--fill-color);\n",
              "    border-color: transparent;\n",
              "    border-bottom-color: var(--fill-color);\n",
              "    animation:\n",
              "      spin 1s steps(1) infinite;\n",
              "  }\n",
              "\n",
              "  @keyframes spin {\n",
              "    0% {\n",
              "      border-color: transparent;\n",
              "      border-bottom-color: var(--fill-color);\n",
              "      border-left-color: var(--fill-color);\n",
              "    }\n",
              "    20% {\n",
              "      border-color: transparent;\n",
              "      border-left-color: var(--fill-color);\n",
              "      border-top-color: var(--fill-color);\n",
              "    }\n",
              "    30% {\n",
              "      border-color: transparent;\n",
              "      border-left-color: var(--fill-color);\n",
              "      border-top-color: var(--fill-color);\n",
              "      border-right-color: var(--fill-color);\n",
              "    }\n",
              "    40% {\n",
              "      border-color: transparent;\n",
              "      border-right-color: var(--fill-color);\n",
              "      border-top-color: var(--fill-color);\n",
              "    }\n",
              "    60% {\n",
              "      border-color: transparent;\n",
              "      border-right-color: var(--fill-color);\n",
              "    }\n",
              "    80% {\n",
              "      border-color: transparent;\n",
              "      border-right-color: var(--fill-color);\n",
              "      border-bottom-color: var(--fill-color);\n",
              "    }\n",
              "    90% {\n",
              "      border-color: transparent;\n",
              "      border-bottom-color: var(--fill-color);\n",
              "    }\n",
              "  }\n",
              "</style>\n",
              "\n",
              "  <script>\n",
              "    async function quickchart(key) {\n",
              "      const quickchartButtonEl =\n",
              "        document.querySelector('#' + key + ' button');\n",
              "      quickchartButtonEl.disabled = true;  // To prevent multiple clicks.\n",
              "      quickchartButtonEl.classList.add('colab-df-spinner');\n",
              "      try {\n",
              "        const charts = await google.colab.kernel.invokeFunction(\n",
              "            'suggestCharts', [key], {});\n",
              "      } catch (error) {\n",
              "        console.error('Error during call to suggestCharts:', error);\n",
              "      }\n",
              "      quickchartButtonEl.classList.remove('colab-df-spinner');\n",
              "      quickchartButtonEl.classList.add('colab-df-quickchart-complete');\n",
              "    }\n",
              "    (() => {\n",
              "      let quickchartButtonEl =\n",
              "        document.querySelector('#df-a8610f4e-8fba-4bf9-81ab-a88296bd77b2 button');\n",
              "      quickchartButtonEl.style.display =\n",
              "        google.colab.kernel.accessAllowed ? 'block' : 'none';\n",
              "    })();\n",
              "  </script>\n",
              "</div>\n",
              "    </div>\n",
              "  </div>\n"
            ],
            "application/vnd.google.colaboratory.intrinsic+json": {
              "type": "dataframe",
              "repr_error": "0"
            }
          },
          "metadata": {},
          "execution_count": 5
        }
      ]
    },
    {
      "cell_type": "markdown",
      "metadata": {
        "id": "iKFafDXT_0Wd"
      },
      "source": [
        "# 1.4 Merge the dataframes into a single dataframe (2')\n",
        "Avoid duplicated columns"
      ]
    },
    {
      "cell_type": "code",
      "source": [
        "# 找到所有需要删除的列\n",
        "Dropcolumns = [col for col in merged_df.columns if col.endswith(('_Netflix', '_PrimeVideo', '_Hulu', '_DisneyPlus'))]\n",
        "\n",
        "# 删除这些列\n",
        "cleaned_moviesDF = merged_df.drop(columns=Dropcolumns)\n",
        "\n",
        "# 打印清理后的数据框的列名\n",
        "print(cleaned_moviesDF.columns)\n"
      ],
      "metadata": {
        "colab": {
          "base_uri": "https://localhost:8080/",
          "height": 211
        },
        "id": "htWcvpPNmmBY",
        "outputId": "6d9ea2e0-86fa-4f6c-a2ca-015ed6ffce1e"
      },
      "execution_count": 6,
      "outputs": [
        {
          "output_type": "error",
          "ename": "NameError",
          "evalue": "name 'merged_df' is not defined",
          "traceback": [
            "\u001b[0;31m---------------------------------------------------------------------------\u001b[0m",
            "\u001b[0;31mNameError\u001b[0m                                 Traceback (most recent call last)",
            "\u001b[0;32m<ipython-input-6-4b53facc8454>\u001b[0m in \u001b[0;36m<cell line: 2>\u001b[0;34m()\u001b[0m\n\u001b[1;32m      1\u001b[0m \u001b[0;31m# 找到所有需要删除的列\u001b[0m\u001b[0;34m\u001b[0m\u001b[0;34m\u001b[0m\u001b[0m\n\u001b[0;32m----> 2\u001b[0;31m \u001b[0mDropcolumns\u001b[0m \u001b[0;34m=\u001b[0m \u001b[0;34m[\u001b[0m\u001b[0mcol\u001b[0m \u001b[0;32mfor\u001b[0m \u001b[0mcol\u001b[0m \u001b[0;32min\u001b[0m \u001b[0mmerged_df\u001b[0m\u001b[0;34m.\u001b[0m\u001b[0mcolumns\u001b[0m \u001b[0;32mif\u001b[0m \u001b[0mcol\u001b[0m\u001b[0;34m.\u001b[0m\u001b[0mendswith\u001b[0m\u001b[0;34m(\u001b[0m\u001b[0;34m(\u001b[0m\u001b[0;34m'_Netflix'\u001b[0m\u001b[0;34m,\u001b[0m \u001b[0;34m'_PrimeVideo'\u001b[0m\u001b[0;34m,\u001b[0m \u001b[0;34m'_Hulu'\u001b[0m\u001b[0;34m,\u001b[0m \u001b[0;34m'_DisneyPlus'\u001b[0m\u001b[0;34m)\u001b[0m\u001b[0;34m)\u001b[0m\u001b[0;34m]\u001b[0m\u001b[0;34m\u001b[0m\u001b[0;34m\u001b[0m\u001b[0m\n\u001b[0m\u001b[1;32m      3\u001b[0m \u001b[0;34m\u001b[0m\u001b[0m\n\u001b[1;32m      4\u001b[0m \u001b[0;31m# 删除这些列\u001b[0m\u001b[0;34m\u001b[0m\u001b[0;34m\u001b[0m\u001b[0m\n\u001b[1;32m      5\u001b[0m \u001b[0mcleaned_moviesDF\u001b[0m \u001b[0;34m=\u001b[0m \u001b[0mmerged_df\u001b[0m\u001b[0;34m.\u001b[0m\u001b[0mdrop\u001b[0m\u001b[0;34m(\u001b[0m\u001b[0mcolumns\u001b[0m\u001b[0;34m=\u001b[0m\u001b[0mDropcolumns\u001b[0m\u001b[0;34m)\u001b[0m\u001b[0;34m\u001b[0m\u001b[0;34m\u001b[0m\u001b[0m\n",
            "\u001b[0;31mNameError\u001b[0m: name 'merged_df' is not defined"
          ]
        }
      ]
    },
    {
      "cell_type": "code",
      "source": [
        "Netflix['Source'] = 'Netflix'\n",
        "PrimeVideo['Source'] = 'PrimeVideo'\n",
        "Hulu['Source'] = 'Hulu'\n",
        "DisneyPlus['Source'] = 'DisneyPlus'\n",
        "\n",
        "merged_df = pd.concat([Netflix, PrimeVideo, Hulu, DisneyPlus], ignore_index=True)\n",
        "merged_df"
      ],
      "metadata": {
        "id": "wRtPwRlvaLvv"
      },
      "execution_count": null,
      "outputs": []
    },
    {
      "cell_type": "markdown",
      "metadata": {
        "id": "Vixdfnny_0We"
      },
      "source": [
        "# <div style=\"color: red\">COMPULSORY STEPS</div>\n",
        "# Data selection"
      ]
    },
    {
      "cell_type": "markdown",
      "metadata": {
        "id": "oc2WhQ27_0We"
      },
      "source": [
        "### Run the following cell, do not change the code"
      ]
    },
    {
      "cell_type": "code",
      "execution_count": null,
      "metadata": {
        "id": "vpg25Wgh_0We"
      },
      "outputs": [],
      "source": [
        "## Run this cell, do not change the code\n",
        "def dataSelection(dfMovies, seed):\n",
        "    moviesSample = dfMovies.sample(frac=0.4, replace=False, random_state=seed)\n",
        "    return moviesSample"
      ]
    },
    {
      "cell_type": "markdown",
      "metadata": {
        "id": "BqOwgUmq_0We"
      },
      "source": [
        "Please modify the following cell:\n",
        "- change the name of `yourDataFrame` variable your dataframe variable\n",
        "- replace `yourStudentID` with your studentID (numeric).\n",
        "\n",
        "The final instruction should look like:\n",
        "`moviesDF = dataSelection(whatever, 88888888)`"
      ]
    },
    {
      "cell_type": "code",
      "source": [
        "# Run this cell after updating it\n",
        "moviesDF = dataSelection(merged_df, 24433462)"
      ],
      "metadata": {
        "id": "E1TLtMf16tEN"
      },
      "execution_count": null,
      "outputs": []
    },
    {
      "cell_type": "code",
      "execution_count": null,
      "metadata": {
        "id": "YV72bifz_0We"
      },
      "outputs": [],
      "source": [
        "# Run this cell\n",
        "moviesDF.shape"
      ]
    },
    {
      "cell_type": "code",
      "execution_count": null,
      "metadata": {
        "id": "ommvyDd2_0We"
      },
      "outputs": [],
      "source": [
        "# Run this cell after updating it\n",
        "moviesDF = dataSelection(merged_df, 24433462)"
      ]
    },
    {
      "cell_type": "markdown",
      "metadata": {
        "id": "2ACVSfDc_0We"
      },
      "source": [
        "# <div style=\"color: red\">Starting from this point use the moviesDF dataframe for your analysis</div>\n",
        "You can change its name when needed."
      ]
    },
    {
      "cell_type": "markdown",
      "metadata": {
        "id": "dD6MzqLP_0We"
      },
      "source": [
        "# Examine the attributes of the Data Frame (standard procedures)\n",
        "\n",
        "## 1.5 Check the columns. (1')\n",
        "Describe your findings (within 50 words)"
      ]
    },
    {
      "cell_type": "code",
      "execution_count": null,
      "metadata": {
        "scrolled": true,
        "id": "--tRSoez_0We"
      },
      "outputs": [],
      "source": [
        "moviesDF.columns"
      ]
    },
    {
      "cell_type": "markdown",
      "metadata": {
        "id": "2UVYUTCw_0We"
      },
      "source": []
    },
    {
      "cell_type": "markdown",
      "metadata": {
        "id": "Zpyreims_0We"
      },
      "source": [
        "## 1.6 Check the index. (2')\n",
        "\n",
        "Can we choose a column to become the index?\n",
        "\n",
        "Any action is needed?\n",
        "\n",
        "Explain and execute"
      ]
    },
    {
      "cell_type": "code",
      "execution_count": null,
      "metadata": {
        "id": "Exf1_e4s_0We"
      },
      "outputs": [],
      "source": [
        "moviesDF.index"
      ]
    },
    {
      "cell_type": "markdown",
      "metadata": {
        "id": "KGMO5zqL_0We"
      },
      "source": [
        "## 1.7 Extract descriptive statistics for numerical variables. (1')\n",
        "Give a brief description of your findings (within 50 words)"
      ]
    },
    {
      "cell_type": "code",
      "execution_count": null,
      "metadata": {
        "id": "pDftZdoG_0We"
      },
      "outputs": [],
      "source": [
        "moviesDF.describe()"
      ]
    },
    {
      "cell_type": "markdown",
      "metadata": {
        "id": "ACRxm6Mi_0We"
      },
      "source": []
    },
    {
      "cell_type": "markdown",
      "metadata": {
        "id": "L-ZxEiQa_0We"
      },
      "source": [
        "## 1.8 Get information from the dataframe (1')\n",
        "Give a brief description (within 50 words)"
      ]
    },
    {
      "cell_type": "code",
      "execution_count": null,
      "metadata": {
        "id": "xh0072vL_0We"
      },
      "outputs": [],
      "source": [
        "moviesDF.info()"
      ]
    },
    {
      "cell_type": "markdown",
      "metadata": {
        "id": "G86Fl7e8_0Wf"
      },
      "source": []
    },
    {
      "cell_type": "markdown",
      "metadata": {
        "id": "d8bVIRBP_0Wf"
      },
      "source": [
        "# <div style=\"color: LimeGreen\">Part 2: Data cleaning and transformation [10%]</div>"
      ]
    },
    {
      "cell_type": "markdown",
      "metadata": {
        "id": "h9ntPGMI_0Wf"
      },
      "source": [
        "## 2.1 Change IMDB rating to categories (5')\n",
        "Create 3 different categories given the ratings:\n",
        "- Good (6 to 10)\n",
        "- Average (4 to 6)\n",
        "- Bad (0 to 4)"
      ]
    },
    {
      "cell_type": "code",
      "source": [
        "def IMDb_rating(rating):\n",
        "  if 6 <= rating <= 10:\n",
        "        return \"Good\"\n",
        "  elif 4 <= rating < 6:\n",
        "        return \"Average\"\n",
        "  elif 0 <= rating < 4:\n",
        "        return \"Bad\"\n",
        "  else:\n",
        "        return \"Unknown Category\"\n",
        "\n",
        "moviesDF['Category'] = moviesDF['IMDb'].apply(IMDb_rating)\n",
        "\n",
        "print(moviesDF[['Category', 'IMDb']])\n"
      ],
      "metadata": {
        "id": "jz7VzK5jwE_R"
      },
      "execution_count": null,
      "outputs": []
    },
    {
      "cell_type": "markdown",
      "metadata": {
        "id": "XdVMBp1a_0Wf"
      },
      "source": [
        "## 2.2 Clean NULL values (5')\n",
        "Change `NA` values in the column `age` to `Not Rated`"
      ]
    },
    {
      "cell_type": "code",
      "source": [
        "print(merged_df['Age'].isnull().sum())\n",
        "merged_df['Age'] = merged_df['Age'].fillna('Not Rated')\n",
        "merged_df"
      ],
      "metadata": {
        "id": "_HrqWdSDsmAt"
      },
      "execution_count": null,
      "outputs": []
    },
    {
      "cell_type": "markdown",
      "metadata": {
        "id": "eTtzDwML_0Wf"
      },
      "source": [
        "# <div style=\"color: LimeGreen\">Part 3: Querying the dataframe and visualizing data [50%]</div>"
      ]
    },
    {
      "cell_type": "markdown",
      "metadata": {
        "id": "xd0Jrf2o_0Wf"
      },
      "source": [
        "## 3.1 Find the top 10 movies with the highest IMDB rating. (3')"
      ]
    },
    {
      "cell_type": "code",
      "source": [
        "highest_movies = moviesDF.sort_values(by='IMDb', ascending=False).head(10)\n",
        "print(highest_movies[['Title', 'IMDb']])"
      ],
      "metadata": {
        "id": "QDNCxcbSZYdO"
      },
      "execution_count": null,
      "outputs": []
    },
    {
      "cell_type": "markdown",
      "metadata": {
        "id": "pfvM5L6g_0Wf"
      },
      "source": [
        "## 3.2 Find the movies that have been released in 2016. (3')"
      ]
    },
    {
      "cell_type": "code",
      "source": [
        "released_2016 = moviesDF[moviesDF['Year'] == 2016]\n",
        "print(released_2016['Title'])"
      ],
      "metadata": {
        "id": "_uKYsnzT6610"
      },
      "execution_count": null,
      "outputs": []
    },
    {
      "cell_type": "markdown",
      "metadata": {
        "id": "v7iq6Ei5_0Wf"
      },
      "source": [
        "## 3.3 Find the movies that are found on all 4 platforms. (3')"
      ]
    },
    {
      "cell_type": "code",
      "execution_count": null,
      "metadata": {
        "id": "0FyhvYJe_0Wf"
      },
      "outputs": [],
      "source": [
        "find_all_movies = pd.merge(Netflix[['Title']], PrimeVideo[['Title']], on='Title', how='inner')\n",
        "find_all_movies = pd.merge(find_all_movies, Hulu[['Title']], on='Title', how='inner')\n",
        "find_all_movies = pd.merge(find_all_movies, DisneyPlus[['Title']], on='Title', how='inner')\n",
        "\n",
        "print(find_all_movies)"
      ]
    },
    {
      "cell_type": "markdown",
      "metadata": {
        "id": "w8Db1mJG_0Wf"
      },
      "source": [
        "## 3.4 Use scatter plot to visualize the relationship between runtime and release year. (4’)\n",
        "State your findings from the scatter plot (within 50 words).\n"
      ]
    },
    {
      "cell_type": "code",
      "execution_count": null,
      "metadata": {
        "id": "C7iF5Syo_0Wf"
      },
      "outputs": [],
      "source": [
        "moviesDF.plot(kind='scatter', x='Year', y='Runtime', alpha=0.5, title='the relationship between Runtime and Release year')\n",
        "plt.show()"
      ]
    },
    {
      "cell_type": "markdown",
      "metadata": {
        "id": "6MY1WS1u_0Wf"
      },
      "source": []
    },
    {
      "cell_type": "markdown",
      "metadata": {
        "id": "Hq0U8F0L_0Wf"
      },
      "source": [
        "### 3.4a Extra: Generate dummies from the IMDB Categories Good, Average, Bad movies (2’)"
      ]
    },
    {
      "cell_type": "code",
      "source": [
        "dfDummies = pd.get_dummies(moviesDF['Category'], prefix='Rating')\n",
        "dfDummies.head()"
      ],
      "metadata": {
        "id": "w1W5xTZhEzSe"
      },
      "execution_count": null,
      "outputs": []
    },
    {
      "cell_type": "markdown",
      "metadata": {
        "id": "Tpv6WArs_0Wg"
      },
      "source": [
        "### 3.4b Extra: Use the dummies features to assign a color to the data points in the scatter plot (2’)\n",
        "State your findings from the scatter plot (within 50 words)."
      ]
    },
    {
      "cell_type": "code",
      "source": [
        "#空着"
      ],
      "metadata": {
        "id": "O8Z6wyjicdN1"
      },
      "execution_count": null,
      "outputs": []
    },
    {
      "cell_type": "markdown",
      "metadata": {
        "id": "KODAxS42_0Wg"
      },
      "source": []
    },
    {
      "cell_type": "markdown",
      "metadata": {
        "id": "cHUcl7GD_0Wg"
      },
      "source": [
        "## 3.5 Show the trend of average IMDB ratings per year, using a line chart. (4')\n",
        "State your findings from the line chart (within 50 words)."
      ]
    },
    {
      "cell_type": "code",
      "execution_count": null,
      "metadata": {
        "id": "fqB1RS4w_0Wg"
      },
      "outputs": [],
      "source": [
        "average_ratings_per_year = moviesDF.groupby('Year')['IMDb'].mean().reset_index()\n",
        "\n",
        "plt.figure(figsize=(12, 6))\n",
        "plt.plot(average_ratings_per_year['Year'], average_ratings_per_year['IMDb'], marker='o', color='b', label='Average IMDb Rating')\n",
        "plt.title('Trend of Average IMDb Ratings per Year')\n",
        "plt.xlabel('Year')\n",
        "plt.ylabel('Average IMDb Rating')\n",
        "plt.grid(True)\n",
        "plt.xticks(rotation=45)\n",
        "plt.show()\n"
      ]
    },
    {
      "cell_type": "markdown",
      "metadata": {
        "id": "RbQZM3xr_0Wg"
      },
      "source": []
    },
    {
      "cell_type": "markdown",
      "metadata": {
        "id": "kAEfyo7Z_0Wg"
      },
      "source": [
        "## 3.6 Create a boxplot to visualize the IMDB ratings of movies on different platforms. (6')\n",
        "State your findings by comparing movie ratings on different platforms (within 100 words)."
      ]
    },
    {
      "cell_type": "code",
      "source": [
        "plt.figure(figsize=(12, 6))\n",
        "sns.boxplot(x='Platform', y='IMDb', data=all_movies)\n",
        "plt.title('IMDB Ratings of Movies on Different Platforms')\n",
        "plt.ylabel('IMDB Rating')\n",
        "plt.xlabel('Platform')\n",
        "plt.grid(True)\n",
        "plt.show()"
      ],
      "metadata": {
        "id": "mrXPxovxhsfE"
      },
      "execution_count": null,
      "outputs": []
    },
    {
      "cell_type": "markdown",
      "metadata": {
        "id": "UTf8NY2i_0Wg"
      },
      "source": []
    },
    {
      "cell_type": "markdown",
      "metadata": {
        "id": "TIN2iw3O_0Wg"
      },
      "source": [
        "## 3.7 Visualize the number of movies found on each platform, using a bar chart. (6')"
      ]
    },
    {
      "cell_type": "code",
      "execution_count": null,
      "metadata": {
        "id": "9MChzoTP_0Wh"
      },
      "outputs": [],
      "source": [
        "import matplotlib.pyplot as plt\n",
        "\n",
        "# 计算每个平台上的电影数量\n",
        "platform_counts = {\n",
        "    'Netflix': Netflix.shape[0],\n",
        "    'Prime Video': PrimeVideo.shape[0],\n",
        "    'Hulu': Hulu.shape[0],\n",
        "    'Disney+': DisneyPlus.shape[0]\n",
        "}\n",
        "\n",
        "# 创建条形图\n",
        "plt.figure(figsize=(10, 6))\n",
        "plt.bar(platform_counts.keys(), platform_counts.values(), color=['blue', 'orange', 'green', 'red'])\n",
        "plt.title('Number of Movies Found on Each Platform')\n",
        "plt.xlabel('Platform')\n",
        "plt.ylabel('Number of Movies')\n",
        "plt.xticks(rotation=45)  # 将x轴标签旋转45度，以便更好地显示\n",
        "\n",
        "# 显示图表\n",
        "plt.show()"
      ]
    },
    {
      "cell_type": "markdown",
      "metadata": {
        "id": "Gz1tbzBe_0Wh"
      },
      "source": [
        "## 3.8 Visualize the distribution of runtime of all movies, using a histogram. (7')"
      ]
    },
    {
      "cell_type": "code",
      "execution_count": null,
      "metadata": {
        "id": "9032jGfj_0Wh"
      },
      "outputs": [],
      "source": [
        "import matplotlib.pyplot as plt\n",
        "\n",
        "# 创建直方图\n",
        "plt.figure(figsize=(12, 6))\n",
        "plt.hist(moviesDF['Runtime'], bins=30, color='skyblue', edgecolor='black')\n",
        "plt.title('Distribution of Movie Runtime')\n",
        "plt.xlabel('Runtime (minutes)')\n",
        "plt.ylabel('Number of Movies')\n",
        "plt.grid(axis='y')\n",
        "\n",
        "# 显示图形\n",
        "plt.show()"
      ]
    },
    {
      "cell_type": "markdown",
      "metadata": {
        "id": "20FG2pM__0Wh"
      },
      "source": [
        "## 3.9 Create a word cloud visualization for the ‘Genres’. (6')\n",
        "State your findings from the wordcloud (within 50 words)."
      ]
    },
    {
      "cell_type": "code",
      "execution_count": null,
      "metadata": {
        "id": "AuMytt85_0Wh"
      },
      "outputs": [],
      "source": [
        "from wordcloud import WordCloud\n",
        "import matplotlib.pyplot as plt\n",
        "\n",
        "# 将所有电影的类型合并为一个字符串\n",
        "all_genres = ' '.join(moviesDF['Genres'].dropna())\n",
        "\n",
        "# 创建词云\n",
        "wordcloud = WordCloud(width=800, height=400, background_color='white').generate(all_genres)\n",
        "\n",
        "# 绘制词云\n",
        "plt.figure(figsize=(12, 6))\n",
        "plt.imshow(wordcloud, interpolation='bilinear')\n",
        "plt.axis('off')  # 关闭坐标轴\n",
        "plt.title('Word Cloud of Movie Genres')\n",
        "plt.show()"
      ]
    },
    {
      "cell_type": "code",
      "source": [
        "from wordcloud import WordCloud\n",
        "import matplotlib.pyplot as plt\n",
        "\n",
        "# 将所有电影的类型合并为一个字符串\n",
        "all_genres = ' '.join(moviesDF['Genres'].dropna())\n",
        "\n",
        "# 创建词云，设置最大词数、最大字体大小和颜色方案\n",
        "wordcloud = WordCloud(\n",
        "    width=800,\n",
        "    height=400,\n",
        "    background_color='white',\n",
        "    max_words=100,  # 最大显示100个词\n",
        "    max_font_size=100,  # 最大字体大小\n",
        "    font_path='path_to_your_font.ttf'  # 如果需要特定字体，提供字体路径\n",
        ").generate(all_genres)\n",
        "\n",
        "# 绘制词云\n",
        "plt.figure(figsize=(12, 6))\n",
        "plt.imshow(wordcloud, interpolation='bilinear')\n",
        "plt.axis('off')  # 关闭坐标轴\n",
        "plt.title('Word Cloud of Movie Genres', size=24)  # 增加标题大小\n",
        "plt.show()\n"
      ],
      "metadata": {
        "id": "ajnqImp7To2g"
      },
      "execution_count": null,
      "outputs": []
    },
    {
      "cell_type": "markdown",
      "metadata": {
        "id": "8FmJWHMh_0Wh"
      },
      "source": [
        "### 3.9a Analyse the frequency of the words then set a threshold for visualization (2')\n",
        "Remove too much frequent words and too less frequent words. Use NLP if you wish."
      ]
    },
    {
      "cell_type": "code",
      "execution_count": null,
      "metadata": {
        "id": "TQDlC7Cl_0Wh"
      },
      "outputs": [],
      "source": [
        "from collections import Counter\n",
        "import matplotlib.pyplot as plt\n",
        "\n",
        "# 将所有电影的类型合并为一个字符串\n",
        "all_genres = ' '.join(moviesDF['Genres'].dropna())\n",
        "\n",
        "# 分词并计算频率\n",
        "words = all_genres.split()\n",
        "word_counts = Counter(words)\n",
        "\n",
        "# 设置阈值（可以根据需要调整）\n",
        "threshold = 5\n",
        "\n",
        "# 筛选频率高于阈值的词\n",
        "filtered_words = {word: count for word, count in word_counts.items() if count > threshold}\n",
        "\n",
        "# 创建条形图可视化\n",
        "plt.figure(figsize=(12, 6))\n",
        "plt.bar(filtered_words.keys(), filtered_words.values(), color='skyblue')\n",
        "plt.title('Frequency of Movie Genres (Filtered by Threshold)')\n",
        "plt.xlabel('Genres')\n",
        "plt.ylabel('Frequency')\n",
        "plt.xticks(rotation=45)\n",
        "plt.grid(axis='y')\n",
        "\n",
        "# 显示图形\n",
        "plt.show()"
      ]
    },
    {
      "cell_type": "markdown",
      "metadata": {
        "id": "oPrIgwbX_0Wh"
      },
      "source": [
        "### 3.9b Extra: Select a mask for the word cloud (2')"
      ]
    },
    {
      "cell_type": "code",
      "execution_count": null,
      "metadata": {
        "id": "eIFyBs1a_0Wh"
      },
      "outputs": [],
      "source": [
        "from wordcloud import WordCloud\n",
        "import numpy as np\n",
        "from PIL import Image\n",
        "import matplotlib.pyplot as plt\n",
        "\n",
        "# 读取掩膜图像（确保你有一个合适的图像文件）\n",
        "mask_image = np.array(Image.open('path/to/your/mask_image.png'))  # 替换为你的掩膜图像路径\n",
        "\n",
        "# 将所有电影的类型合并为一个字符串\n",
        "all_genres = ' '.join(moviesDF['Genres'].dropna())\n",
        "\n",
        "# 创建词云，设置掩膜\n",
        "wordcloud = WordCloud(width=800, height=400, background_color='white', mask=mask_image,\n",
        "                      contour_color='black', contour_width=1).generate(all_genres)\n",
        "\n",
        "# 绘制词云\n",
        "plt.figure(figsize=(12, 6))\n",
        "plt.imshow(wordcloud, interpolation='bilinear')\n",
        "plt.axis('off')  # 关闭坐标轴\n",
        "plt.title('Word Cloud of Movie Genres with Mask')\n",
        "plt.show()"
      ]
    },
    {
      "cell_type": "markdown",
      "metadata": {
        "id": "fVdtjddv_0Wh"
      },
      "source": [
        "# <div style=\"color: LimeGreen\">Part 4: Exploratory Data Analysis and Visualization [30%]</div>\n",
        "By exploring the data, generate three additional Research Questions.\n",
        "\n",
        "Answer them with queries and visualizations. Note that:\n",
        "- At least one RQ should be answered with small multiple charts (subplots)\n",
        "- At least one question should be answered using pivot tables\n",
        "- Use at least a different visualization for each research question\n",
        "\n",
        "Write down your analysis in 200/300 words per question.    "
      ]
    },
    {
      "cell_type": "markdown",
      "metadata": {
        "id": "F0Q0Xz3Q_0Wh"
      },
      "source": [
        "## RQ1 (Multiples subplots): ___________"
      ]
    },
    {
      "cell_type": "code",
      "execution_count": null,
      "metadata": {
        "id": "hjfPC_oF_0Wh"
      },
      "outputs": [],
      "source": []
    },
    {
      "cell_type": "markdown",
      "metadata": {
        "id": "UwXn1LFE_0Wh"
      },
      "source": []
    },
    {
      "cell_type": "markdown",
      "metadata": {
        "id": "Flye3Zk6_0Wh"
      },
      "source": [
        "## RQ2 (Pivot table): ___________"
      ]
    },
    {
      "cell_type": "code",
      "execution_count": null,
      "metadata": {
        "id": "AyIV4Sh0_0Wh"
      },
      "outputs": [],
      "source": []
    },
    {
      "cell_type": "markdown",
      "metadata": {
        "id": "JqlFGC-Z_0Wh"
      },
      "source": []
    },
    {
      "cell_type": "markdown",
      "metadata": {
        "id": "2AP4Nv4J_0Wi"
      },
      "source": [
        "## RQ3: (Open question)___________"
      ]
    },
    {
      "cell_type": "code",
      "execution_count": null,
      "metadata": {
        "id": "l0wXXYEn_0Wi"
      },
      "outputs": [],
      "source": []
    },
    {
      "cell_type": "markdown",
      "metadata": {
        "id": "J2nlb4Nd_0Wi"
      },
      "source": []
    }
  ],
  "metadata": {
    "anaconda-cloud": {},
    "kernelspec": {
      "display_name": "Python 3",
      "language": "python",
      "name": "python3"
    },
    "language_info": {
      "codemirror_mode": {
        "name": "ipython",
        "version": 3
      },
      "file_extension": ".py",
      "mimetype": "text/x-python",
      "name": "python",
      "nbconvert_exporter": "python",
      "pygments_lexer": "ipython3",
      "version": "3.8.5"
    },
    "toc": {
      "nav_menu": {},
      "number_sections": true,
      "sideBar": true,
      "skip_h1_title": false,
      "title_cell": "Table of Contents",
      "title_sidebar": "Contents",
      "toc_cell": false,
      "toc_position": {},
      "toc_section_display": true,
      "toc_window_display": false
    },
    "colab": {
      "provenance": [],
      "include_colab_link": true
    }
  },
  "nbformat": 4,
  "nbformat_minor": 0
}